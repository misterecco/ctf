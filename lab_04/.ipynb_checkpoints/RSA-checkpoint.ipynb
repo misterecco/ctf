{
 "cells": [
  {
   "cell_type": "markdown",
   "metadata": {
    "deletable": true,
    "editable": true
   },
   "source": [
    "# RSA"
   ]
  },
  {
   "cell_type": "markdown",
   "metadata": {},
   "source": [
    "### Androidowy CTF\n",
    "https://team-sik.org/ahe16-challenges/"
   ]
  },
  {
   "cell_type": "markdown",
   "metadata": {
    "deletable": true,
    "editable": true
   },
   "source": [
    "## Zadanie 1\n",
    "https://www.mimuw.edu.pl/~kdr/CTF/rsa-factor\n",
    "\n",
    "https://pl.wikipedia.org/wiki/GNFS\n",
    "\n",
    "https://en.wikipedia.org/wiki/General_number_field_sieve\n",
    "\n",
    "https://en.wikipedia.org/wiki/Pollard%27s_rho_algorithm\n",
    "\n",
    "https://en.wikipedia.org/wiki/Pollard's_p_−_1_algorithm"
   ]
  },
  {
   "cell_type": "code",
   "execution_count": 1,
   "metadata": {
    "collapsed": false,
    "deletable": true,
    "editable": true
   },
   "outputs": [
    {
     "name": "stderr",
     "output_type": "stream",
     "text": [
      "/usr/lib/python2.7/json/encoder.py:207: DeprecationWarning: Interpreting naive datetime as local 2017-03-23 16:58:25.435693. Please add timezone info to timestamps.\n",
      "  chunks = self.iterencode(o, _one_shot=True)\n"
     ]
    }
   ],
   "source": [
    "N = 806352057531530523963313602479438872088432246477298888633544863168801194371647210245884463613505946699493533120095007017372900626077\n",
    "e = 65537"
   ]
  },
  {
   "cell_type": "code",
   "execution_count": 2,
   "metadata": {
    "collapsed": false,
    "deletable": true,
    "editable": true
   },
   "outputs": [
    {
     "name": "stderr",
     "output_type": "stream",
     "text": [
      "/usr/lib/python2.7/json/encoder.py:207: DeprecationWarning: Interpreting naive datetime as local 2017-03-23 16:58:27.997338. Please add timezone info to timestamps.\n",
      "  chunks = self.iterencode(o, _one_shot=True)\n"
     ]
    }
   ],
   "source": [
    "ll = [x for x in xrange(10^7) if is_prime(x)]"
   ]
  },
  {
   "cell_type": "code",
   "execution_count": 3,
   "metadata": {
    "collapsed": false,
    "deletable": true,
    "editable": true
   },
   "outputs": [
    {
     "data": {
      "text/plain": [
       "664579"
      ]
     },
     "execution_count": 3,
     "metadata": {},
     "output_type": "execute_result"
    },
    {
     "name": "stderr",
     "output_type": "stream",
     "text": [
      "/usr/lib/python2.7/json/encoder.py:207: DeprecationWarning: Interpreting naive datetime as local 2017-03-23 16:50:56.056247. Please add timezone info to timestamps.\n",
      "  chunks = self.iterencode(o, _one_shot=True)\n"
     ]
    }
   ],
   "source": [
    "len(ll)"
   ]
  },
  {
   "cell_type": "code",
   "execution_count": 3,
   "metadata": {
    "collapsed": false,
    "deletable": true,
    "editable": true
   },
   "outputs": [
    {
     "name": "stderr",
     "output_type": "stream",
     "text": [
      "/usr/lib/python2.7/json/encoder.py:207: DeprecationWarning: Interpreting naive datetime as local 2017-03-23 16:59:07.830239. Please add timezone info to timestamps.\n",
      "  chunks = self.iterencode(o, _one_shot=True)\n"
     ]
    }
   ],
   "source": [
    "k = prod([x^10 for x in ll])"
   ]
  },
  {
   "cell_type": "code",
   "execution_count": 4,
   "metadata": {
    "collapsed": false,
    "deletable": true,
    "editable": true
   },
   "outputs": [
    {
     "ename": "KeyboardInterrupt",
     "evalue": "",
     "output_type": "error",
     "traceback": [
      "\u001b[0;31m---------------------------------------------------------------------------\u001b[0m",
      "\u001b[0;31mKeyboardInterrupt\u001b[0m                         Traceback (most recent call last)",
      "\u001b[0;32m<ipython-input-4-10bd984362b8>\u001b[0m in \u001b[0;36m<module>\u001b[0;34m()\u001b[0m\n\u001b[0;32m----> 1\u001b[0;31m \u001b[0mgcd\u001b[0m\u001b[0;34m(\u001b[0m\u001b[0mpower_mod\u001b[0m\u001b[0;34m(\u001b[0m\u001b[0mInteger\u001b[0m\u001b[0;34m(\u001b[0m\u001b[0;36m2\u001b[0m\u001b[0;34m)\u001b[0m\u001b[0;34m,\u001b[0m \u001b[0mk\u001b[0m\u001b[0;34m,\u001b[0m \u001b[0mN\u001b[0m\u001b[0;34m)\u001b[0m \u001b[0;34m-\u001b[0m \u001b[0mInteger\u001b[0m\u001b[0;34m(\u001b[0m\u001b[0;36m1\u001b[0m\u001b[0;34m)\u001b[0m\u001b[0;34m,\u001b[0m \u001b[0mN\u001b[0m\u001b[0;34m)\u001b[0m\u001b[0;34m\u001b[0m\u001b[0m\n\u001b[0m",
      "\u001b[0;32m/usr/lib/python2.7/site-packages/sage/arith/misc.pyc\u001b[0m in \u001b[0;36mpower_mod\u001b[0;34m(a, n, m)\u001b[0m\n\u001b[1;32m   2136\u001b[0m         \u001b[0;32mif\u001b[0m \u001b[0mn\u001b[0m\u001b[0;34m&\u001b[0m\u001b[0;36m1\u001b[0m \u001b[0;34m!=\u001b[0m \u001b[0;36m0\u001b[0m\u001b[0;34m:\u001b[0m\u001b[0;34m\u001b[0m\u001b[0m\n\u001b[1;32m   2137\u001b[0m             \u001b[0mpower\u001b[0m \u001b[0;34m=\u001b[0m \u001b[0;34m(\u001b[0m\u001b[0mpower\u001b[0m\u001b[0;34m*\u001b[0m\u001b[0mapow\u001b[0m\u001b[0;34m)\u001b[0m \u001b[0;34m%\u001b[0m \u001b[0mm\u001b[0m\u001b[0;34m\u001b[0m\u001b[0m\n\u001b[0;32m-> 2138\u001b[0;31m         \u001b[0mn\u001b[0m \u001b[0;34m=\u001b[0m \u001b[0mn\u001b[0m \u001b[0;34m>>\u001b[0m \u001b[0;36m1\u001b[0m\u001b[0;34m\u001b[0m\u001b[0m\n\u001b[0m\u001b[1;32m   2139\u001b[0m \u001b[0;34m\u001b[0m\u001b[0m\n\u001b[1;32m   2140\u001b[0m     \u001b[0;32mreturn\u001b[0m \u001b[0mpower\u001b[0m\u001b[0;34m\u001b[0m\u001b[0m\n",
      "\u001b[0;32msage/rings/integer.pyx\u001b[0m in \u001b[0;36msage.rings.integer.Integer.__rshift__ (/build/sagemath/src/sage-7.5.1/src/src/build/cythonized/sage/rings/integer.c:39286)\u001b[0;34m()\u001b[0m\n",
      "\u001b[0;32msage/rings/integer.pyx\u001b[0m in \u001b[0;36msage.rings.integer.Integer._shift_helper (/build/sagemath/src/sage-7.5.1/src/src/build/cythonized/sage/rings/integer.c:38928)\u001b[0;34m()\u001b[0m\n",
      "\u001b[0;32msrc/cysignals/signals.pyx\u001b[0m in \u001b[0;36mcysignals.signals.sig_raise_exception (build/src/cysignals/signals.c:1303)\u001b[0;34m()\u001b[0m\n",
      "\u001b[0;31mKeyboardInterrupt\u001b[0m: "
     ]
    },
    {
     "name": "stderr",
     "output_type": "stream",
     "text": [
      "/usr/lib/python2.7/json/encoder.py:207: DeprecationWarning: Interpreting naive datetime as local 2017-03-23 17:00:32.609756. Please add timezone info to timestamps.\n",
      "  chunks = self.iterencode(o, _one_shot=True)\n"
     ]
    }
   ],
   "source": [
    "gcd(power_mod(2, k, N) - 1, N)"
   ]
  },
  {
   "cell_type": "markdown",
   "metadata": {
    "collapsed": true,
    "deletable": true,
    "editable": true
   },
   "source": [
    "## Zadanie 2\n",
    "https://www.mimuw.edu.pl/~kdr/CTF/rsa-coppersmith/\n",
    "\n",
    "https://en.wikipedia.org/wiki/Coppersmith_method\n",
    "\n",
    "https://github.com/mimoo/RSA-and-LLL-attacks\n",
    "\n",
    "https://crypto.stanford.edu"
   ]
  },
  {
   "cell_type": "code",
   "execution_count": 1,
   "metadata": {
    "collapsed": false,
    "deletable": true,
    "editable": true
   },
   "outputs": [
    {
     "name": "stderr",
     "output_type": "stream",
     "text": [
      "/usr/lib/python2.7/json/encoder.py:207: DeprecationWarning: Interpreting naive datetime as local 2017-03-23 18:09:34.765222. Please add timezone info to timestamps.\n",
      "  chunks = self.iterencode(o, _one_shot=True)\n"
     ]
    }
   ],
   "source": [
    "Z.<x> = PolynomialRing(ZZ)"
   ]
  },
  {
   "cell_type": "code",
   "execution_count": 2,
   "metadata": {
    "collapsed": false,
    "scrolled": true
   },
   "outputs": [
    {
     "name": "stderr",
     "output_type": "stream",
     "text": [
      "/usr/lib/python2.7/json/encoder.py:207: DeprecationWarning: Interpreting naive datetime as local 2017-03-23 18:10:02.311959. Please add timezone info to timestamps.\n",
      "  chunks = self.iterencode(o, _one_shot=True)\n"
     ]
    }
   ],
   "source": [
    "g = x^2 - 2*x - 15"
   ]
  },
  {
   "cell_type": "code",
   "execution_count": 3,
   "metadata": {
    "collapsed": false
   },
   "outputs": [
    {
     "data": {
      "text/plain": [
       "[(5, 1), (-3, 1)]"
      ]
     },
     "execution_count": 3,
     "metadata": {},
     "output_type": "execute_result"
    },
    {
     "name": "stderr",
     "output_type": "stream",
     "text": [
      "/usr/lib/python2.7/json/encoder.py:207: DeprecationWarning: Interpreting naive datetime as local 2017-03-23 18:10:06.965928. Please add timezone info to timestamps.\n",
      "  chunks = self.iterencode(o, _one_shot=True)\n"
     ]
    }
   ],
   "source": [
    "g.roots()"
   ]
  },
  {
   "cell_type": "code",
   "execution_count": 4,
   "metadata": {
    "collapsed": false
   },
   "outputs": [
    {
     "name": "stderr",
     "output_type": "stream",
     "text": [
      "/usr/lib/python2.7/json/encoder.py:207: DeprecationWarning: Interpreting naive datetime as local 2017-03-23 18:10:54.561648. Please add timezone info to timestamps.\n",
      "  chunks = self.iterencode(o, _one_shot=True)\n"
     ]
    }
   ],
   "source": [
    "m = Matrix([[1, 2], [3, 4]])"
   ]
  },
  {
   "cell_type": "code",
   "execution_count": 6,
   "metadata": {
    "collapsed": false
   },
   "outputs": [
    {
     "data": {
      "text/plain": [
       "[1 0]\n",
       "[0 2]"
      ]
     },
     "execution_count": 6,
     "metadata": {},
     "output_type": "execute_result"
    },
    {
     "name": "stderr",
     "output_type": "stream",
     "text": [
      "/usr/lib/python2.7/json/encoder.py:207: DeprecationWarning: Interpreting naive datetime as local 2017-03-23 18:11:05.925259. Please add timezone info to timestamps.\n",
      "  chunks = self.iterencode(o, _one_shot=True)\n"
     ]
    }
   ],
   "source": [
    "m.LLL()"
   ]
  },
  {
   "cell_type": "code",
   "execution_count": 10,
   "metadata": {
    "collapsed": false
   },
   "outputs": [
    {
     "name": "stderr",
     "output_type": "stream",
     "text": [
      "/usr/lib/python2.7/json/encoder.py:207: DeprecationWarning: Interpreting naive datetime as local 2017-03-23 18:16:02.936860. Please add timezone info to timestamps.\n",
      "  chunks = self.iterencode(o, _one_shot=True)\n"
     ]
    }
   ],
   "source": [
    "import time\n",
    "\n",
    "debug = False\n",
    "\n",
    "# display matrix picture with 0 and X\n",
    "def matrix_overview(BB, bound):\n",
    "    for ii in range(BB.dimensions()[0]):\n",
    "        a = ('%02d ' % ii)\n",
    "        for jj in range(BB.dimensions()[1]):\n",
    "            a += '0' if BB[ii,jj] == 0 else 'X'\n",
    "            a += ' '\n",
    "        if BB[ii, ii] >= bound:\n",
    "            a += '~'\n",
    "        print a\n",
    "\n",
    "def coppersmith_howgrave_univariate(pol, modulus, beta, mm, tt, XX):\n",
    "    \"\"\"\n",
    "    Coppersmith revisited by Howgrave-Graham\n",
    "    \n",
    "    finds a solution if:\n",
    "    * b|modulus, b >= modulus^beta , 0 < beta <= 1\n",
    "    * |x| < XX\n",
    "    \"\"\"\n",
    "    #\n",
    "    # init\n",
    "    #\n",
    "    dd = pol.degree()\n",
    "    nn = dd * mm + tt\n",
    "\n",
    "    #\n",
    "    # checks\n",
    "    #\n",
    "    if not 0 < beta <= 1:\n",
    "        raise ValueError(\"beta should belongs in (0, 1]\")\n",
    "\n",
    "    if not pol.is_monic():\n",
    "        raise ArithmeticError(\"Polynomial must be monic.\")\n",
    "\n",
    "    #\n",
    "    # calculate bounds and display them\n",
    "    #\n",
    "    \"\"\"\n",
    "    * we want to find g(x) such that ||g(xX)|| <= b^m / sqrt(n)\n",
    "    * we know LLL will give us a short vector v such that:\n",
    "    ||v|| <= 2^((n - 1)/4) * det(L)^(1/n)\n",
    "    * we will use that vector as a coefficient vector for our g(x)\n",
    "    \n",
    "    * so we want to satisfy:\n",
    "    2^((n - 1)/4) * det(L)^(1/n) < N^(beta*m) / sqrt(n)\n",
    "    \n",
    "    so we can obtain ||v|| < N^(beta*m) / sqrt(n) <= b^m / sqrt(n)\n",
    "    (it's important to use N because we might not know b)\n",
    "    \"\"\"\n",
    "    if debug:\n",
    "        # t optimized?\n",
    "        print \"\\n# Optimized t?\\n\"\n",
    "        print \"we want X^(n-1) < N^(beta*m) so that each vector is helpful\"\n",
    "        cond1 = RR(XX^(nn-1))\n",
    "        print \"* X^(n-1) = \", cond1\n",
    "        cond2 = pow(modulus, beta*mm)\n",
    "        print \"* N^(beta*m) = \", cond2\n",
    "        print \"* X^(n-1) < N^(beta*m) \\n-> GOOD\" if cond1 < cond2 else \"* X^(n-1) >= N^(beta*m) \\n-> NOT GOOD\"\n",
    "        \n",
    "        # bound for X\n",
    "        print \"\\n# X bound respected?\\n\"\n",
    "        print \"we want X <= N^(((2*beta*m)/(n-1)) - ((delta*m*(m+1))/(n*(n-1)))) / 2 = M\"\n",
    "        print \"* X =\", XX\n",
    "        cond2 = RR(modulus^(((2*beta*mm)/(nn-1)) - ((dd*mm*(mm+1))/(nn*(nn-1)))) / 2)\n",
    "        print \"* M =\", cond2\n",
    "        print \"* X <= M \\n-> GOOD\" if XX <= cond2 else \"* X > M \\n-> NOT GOOD\"\n",
    "\n",
    "        # solution possible?\n",
    "        print \"\\n# Solutions possible?\\n\"\n",
    "        detL = RR(modulus^(dd * mm * (mm + 1) / 2) * XX^(nn * (nn - 1) / 2))\n",
    "        print \"we can find a solution if 2^((n - 1)/4) * det(L)^(1/n) < N^(beta*m) / sqrt(n)\"\n",
    "        cond1 = RR(2^((nn - 1)/4) * detL^(1/nn))\n",
    "        print \"* 2^((n - 1)/4) * det(L)^(1/n) = \", cond1\n",
    "        cond2 = RR(modulus^(beta*mm) / sqrt(nn))\n",
    "        print \"* N^(beta*m) / sqrt(n) = \", cond2\n",
    "        print \"* 2^((n - 1)/4) * det(L)^(1/n) < N^(beta*m) / sqrt(n) \\n-> SOLUTION WILL BE FOUND\" if cond1 < cond2 else \"* 2^((n - 1)/4) * det(L)^(1/n) >= N^(beta*m) / sqroot(n) \\n-> NO SOLUTIONS MIGHT BE FOUND (but we never know)\"\n",
    "\n",
    "        # warning about X\n",
    "        print \"\\n# Note that no solutions will be found _for sure_ if you don't respect:\\n* |root| < X \\n* b >= modulus^beta\\n\"\n",
    "    \n",
    "    #\n",
    "    # Coppersmith revisited algo for univariate\n",
    "    #\n",
    "\n",
    "    # change ring of pol and x\n",
    "    polZ = pol.change_ring(ZZ)\n",
    "    x = polZ.parent().gen()\n",
    "\n",
    "    # compute polynomials\n",
    "    gg = []\n",
    "    for ii in range(mm):\n",
    "        for jj in range(dd):\n",
    "            gg.append((x * XX)**jj * modulus**(mm - ii) * polZ(x * XX)**ii)\n",
    "    for ii in range(tt):\n",
    "        gg.append((x * XX)**ii * polZ(x * XX)**mm)\n",
    "    \n",
    "    # construct lattice B\n",
    "    BB = Matrix(ZZ, nn)\n",
    "\n",
    "    for ii in range(nn):\n",
    "        for jj in range(ii+1):\n",
    "            BB[ii, jj] = gg[ii][jj]\n",
    "\n",
    "    # display basis matrix\n",
    "    if debug:\n",
    "        matrix_overview(BB, modulus^mm)\n",
    "\n",
    "    # LLL\n",
    "    BB = BB.LLL()\n",
    "\n",
    "    # transform shortest vector in polynomial    \n",
    "    new_pol = 0\n",
    "    for ii in range(nn):\n",
    "        new_pol += x**ii * BB[0, ii] / XX**ii\n",
    "\n",
    "    # factor polynomial\n",
    "    potential_roots = new_pol.roots()\n",
    "    print \"potential roots:\", potential_roots\n",
    "\n",
    "    # test roots\n",
    "    roots = []\n",
    "    for root in potential_roots:\n",
    "        if root[0].is_integer():\n",
    "            result = polZ(ZZ(root[0]))\n",
    "            if gcd(modulus, result) >= modulus^beta:\n",
    "                roots.append(ZZ(root[0]))\n",
    "\n",
    "    # \n",
    "    return roots"
   ]
  },
  {
   "cell_type": "code",
   "execution_count": 11,
   "metadata": {
    "collapsed": false
   },
   "outputs": [
    {
     "name": "stdout",
     "output_type": "stream",
     "text": [
      "//////////////////////////////////\n",
      "// TEST 1\n",
      "////////////////////////////////\n",
      "potential roots: [(553257391880613417124689680411830710219210934408558456347144, 1)]\n",
      "\n",
      "# Solutions\n",
      "we want to find: 553257391880613417124689680411830710219210934408558456347144\n",
      "we found: [553257391880613417124689680411830710219210934408558456347144]\n",
      "in: 0.0125260353088 seconds \n",
      "\n",
      "\n"
     ]
    },
    {
     "name": "stderr",
     "output_type": "stream",
     "text": [
      "/usr/lib/python2.7/json/encoder.py:207: DeprecationWarning: Interpreting naive datetime as local 2017-03-23 18:16:06.595811. Please add timezone info to timestamps.\n",
      "  chunks = self.iterencode(o, _one_shot=True)\n"
     ]
    }
   ],
   "source": [
    "\n",
    "############################################\n",
    "# Test on Stereotyped Messages\n",
    "##########################################    \n",
    "\n",
    "print \"//////////////////////////////////\"\n",
    "print \"// TEST 1\"\n",
    "print \"////////////////////////////////\"\n",
    "\n",
    "# RSA gen options (for the demo)\n",
    "length_N = 1024  # size of the modulus\n",
    "Kbits = 200      # size of the root\n",
    "e = 3\n",
    "\n",
    "# RSA gen (for the demo)\n",
    "p = next_prime(2^int(round(length_N/2)))\n",
    "q = next_prime(p)\n",
    "N = p*q\n",
    "ZmodN = Zmod(N);\n",
    "\n",
    "# Create problem (for the demo)\n",
    "K = ZZ.random_element(0, 2^Kbits)\n",
    "Kdigits = K.digits(2)\n",
    "M = [0]*Kbits + [1]*(length_N-Kbits); \n",
    "for i in range(len(Kdigits)):\n",
    "    M[i] = Kdigits[i]\n",
    "M = ZZ(M, 2)\n",
    "C = ZmodN(M)^e\n",
    "\n",
    "# Problem to equation (default)\n",
    "P.<x> = PolynomialRing(ZmodN) #, implementation='NTL')\n",
    "pol = (2^length_N - 2^Kbits + x)^e - C\n",
    "dd = pol.degree()\n",
    "\n",
    "# Tweak those\n",
    "beta = 1                                # b = N\n",
    "epsilon = beta / 7                      # <= beta / 7\n",
    "mm = ceil(beta**2 / (dd * epsilon))     # optimized value\n",
    "tt = floor(dd * mm * ((1/beta) - 1))    # optimized value\n",
    "XX = ceil(N**((beta**2/dd) - epsilon))  # optimized value\n",
    "\n",
    "# Coppersmith\n",
    "start_time = time.time()\n",
    "roots = coppersmith_howgrave_univariate(pol, N, beta, mm, tt, XX)\n",
    "\n",
    "# output\n",
    "print \"\\n# Solutions\"\n",
    "print \"we want to find:\",str(K)\n",
    "print \"we found:\", str(roots)\n",
    "print(\"in: %s seconds \" % (time.time() - start_time))\n",
    "print \"\\n\"\n"
   ]
  },
  {
   "cell_type": "code",
   "execution_count": 12,
   "metadata": {
    "collapsed": false
   },
   "outputs": [
    {
     "name": "stdout",
     "output_type": "stream",
     "text": [
      "//////////////////////////////////\n",
      "// TEST 2\n",
      "////////////////////////////////\n",
      "potential roots: [(42121870893450634577463914985889299119866228583627912396576170307551916037987547771260822964333590990972116285298386343357120160337507808490230671710059552, 1), (1049981262054995348694752187956603556605760696987635516144551, 3), (295543451283555010220921777953050286021609190769561453081947948110254758207/281474976710656, 3)]\n",
      "\n",
      "# Solutions\n",
      "we want to find: 1049981262054995348694752187956603556605760696987635516144551\n",
      "we found: [42121870893450634577463914985889299119866228583627912396576170307551916037987547771260822964333590990972116285298386343357120160337507808490230671710059552, 1049981262054995348694752187956603556605760696987635516144551]\n",
      "in: 0.00995397567749 seconds \n"
     ]
    },
    {
     "name": "stderr",
     "output_type": "stream",
     "text": [
      "/usr/lib/python2.7/json/encoder.py:207: DeprecationWarning: Interpreting naive datetime as local 2017-03-23 18:16:11.310268. Please add timezone info to timestamps.\n",
      "  chunks = self.iterencode(o, _one_shot=True)\n"
     ]
    }
   ],
   "source": [
    "############################################\n",
    "# Test on Factoring with High Bits Known\n",
    "##########################################\n",
    "print \"//////////////////////////////////\"\n",
    "print \"// TEST 2\"\n",
    "print \"////////////////////////////////\"\n",
    "\n",
    "# RSA gen\n",
    "length_N = 1024;\n",
    "p = next_prime(2^int(round(length_N/2)));\n",
    "q = next_prime( round(pi.n()*p) );\n",
    "N = p*q;\n",
    "\n",
    "# qbar is q + [hidden_size_random]\n",
    "hidden = 200;\n",
    "diff = ZZ.random_element(0, 2^hidden-1)\n",
    "qbar = q + diff; \n",
    "\n",
    "F.<x> = PolynomialRing(Zmod(N), implementation='NTL'); \n",
    "pol = x - qbar\n",
    "dd = pol.degree()\n",
    "\n",
    "# PLAY WITH THOSE:\n",
    "beta = 0.5                             # we should have q >= N^beta\n",
    "epsilon = beta / 7                     # <= beta/7\n",
    "mm = ceil(beta**2 / (dd * epsilon))    # optimized\n",
    "tt = floor(dd * mm * ((1/beta) - 1))   # optimized\n",
    "XX = ceil(N**((beta**2/dd) - epsilon)) # we should have |diff| < X\n",
    "\n",
    "# Coppersmith\n",
    "start_time = time.time()\n",
    "roots = coppersmith_howgrave_univariate(pol, N, beta, mm, tt, XX)\n",
    "\n",
    "# output\n",
    "print \"\\n# Solutions\"\n",
    "print \"we want to find:\", qbar - q\n",
    "print \"we found:\", roots\n",
    "print(\"in: %s seconds \" % (time.time() - start_time))"
   ]
  },
  {
   "cell_type": "code",
   "execution_count": 15,
   "metadata": {
    "collapsed": false
   },
   "outputs": [
    {
     "name": "stdout",
     "output_type": "stream",
     "text": [
      "potential roots: [(20586411312067893329588341019850697586021163634040100018797, 1)]\n",
      "\n",
      "# Solutions\n",
      "we want to find: 20586411312067893329588341019850697586021163634040100018797\n",
      "we found: [20586411312067893329588341019850697586021163634040100018797]\n",
      "in: 0.0210747718811 seconds \n",
      "\n",
      "\n"
     ]
    },
    {
     "name": "stderr",
     "output_type": "stream",
     "text": [
      "/usr/lib/python2.7/json/encoder.py:207: DeprecationWarning: Interpreting naive datetime as local 2017-03-23 18:20:33.291009. Please add timezone info to timestamps.\n",
      "  chunks = self.iterencode(o, _one_shot=True)\n"
     ]
    }
   ],
   "source": [
    "N = 103025383331774221844715555350443502036384874534860250608713971612024679786424608062477554580583907799742421882118567445020684899058130081023616369556732672867495312186150020832128775876371918326396865661550321620459921001461872942436166389315277054113802222813617987286254677479668280852165661814422953341413\n",
    "e = 3 \n",
    "\n",
    "ZmodN = Zmod(N);\n",
    "\n",
    "# Create problem (for the demo)\n",
    "K = ZZ.random_element(0, 2^Kbits)\n",
    "Kdigits = K.digits(2)\n",
    "M = [0]*Kbits + [1]*(length_N-Kbits); \n",
    "for i in range(len(Kdigits)):\n",
    "    M[i] = Kdigits[i]\n",
    "M = ZZ(M, 2)\n",
    "C = ZmodN(M)^e\n",
    "\n",
    "# Problem to equation (default)\n",
    "P.<x> = PolynomialRing(ZmodN) #, implementation='NTL')\n",
    "pol = (2^length_N - 2^Kbits + x)^e - C\n",
    "dd = pol.degree()\n",
    "\n",
    "# Tweak those\n",
    "beta = 1                                # b = N\n",
    "epsilon = beta / 7                      # <= beta / 7\n",
    "mm = ceil(beta**2 / (dd * epsilon))     # optimized value\n",
    "tt = floor(dd * mm * ((1/beta) - 1))    # optimized value\n",
    "XX = ceil(N**((beta**2/dd) - epsilon))  # optimized value\n",
    "\n",
    "# Coppersmith\n",
    "start_time = time.time()\n",
    "roots = coppersmith_howgrave_univariate(pol, N, beta, mm, tt, XX)\n",
    "\n",
    "# output\n",
    "print \"\\n# Solutions\"\n",
    "print \"we want to find:\",str(K)\n",
    "print \"we found:\", str(roots)\n",
    "print(\"in: %s seconds \" % (time.time() - start_time))\n",
    "print \"\\n\""
   ]
  },
  {
   "cell_type": "markdown",
   "metadata": {},
   "source": [
    "## Zadanie 3\n",
    "https://www.mimuw.edu.pl/~kdr/CTF/rsa-stains/\n",
    "\n",
    "RSA der format\n",
    "\n",
    "sage - small_roots"
   ]
  },
  {
   "cell_type": "code",
   "execution_count": null,
   "metadata": {
    "collapsed": true
   },
   "outputs": [],
   "source": []
  }
 ],
 "metadata": {
  "kernelspec": {
   "display_name": "SageMath 7.5.1",
   "language": "",
   "name": "sagemath"
  },
  "language_info": {
   "codemirror_mode": {
    "name": "ipython",
    "version": 2
   },
   "file_extension": ".py",
   "mimetype": "text/x-python",
   "name": "python",
   "nbconvert_exporter": "python",
   "pygments_lexer": "ipython2",
   "version": "2.7.13"
  }
 },
 "nbformat": 4,
 "nbformat_minor": 2
}
